{
 "cells": [
  {
   "cell_type": "code",
   "execution_count": 96,
   "outputs": [],
   "source": [
    "import json"
   ],
   "metadata": {
    "collapsed": false,
    "ExecuteTime": {
     "end_time": "2024-05-16T14:05:34.460799Z",
     "start_time": "2024-05-16T14:05:34.457999Z"
    }
   },
   "id": "906d251cf7ed275a"
  },
  {
   "cell_type": "code",
   "execution_count": 97,
   "outputs": [],
   "source": [
    "lines=[]\n",
    "with open('VCSum/vcsum_data/overall_context.txt', 'r', encoding='utf-8') as f:\n",
    "    lines = f.readlines()\n",
    "data_context = [json.loads(line.rstrip('\\n')) for line in lines]\n",
    "context_list = [d[\"context\"] for d in data_context]"
   ],
   "metadata": {
    "collapsed": false,
    "ExecuteTime": {
     "end_time": "2024-05-16T14:05:36.354769Z",
     "start_time": "2024-05-16T14:05:36.293240Z"
    }
   },
   "id": "d86fc6fa3ff9304d"
  },
  {
   "cell_type": "code",
   "execution_count": 98,
   "outputs": [],
   "source": [
    "lines=[]\n",
    "with open('VCSum/vcsum_data/overall_highlights.txt', 'r', encoding='utf-8') as f:\n",
    "    lines = f.readlines()\n",
    "data_highlight = [json.loads(line.rstrip('\\n')) for line in lines]\n",
    "highlight_list = [d[\"highlights\"] for d in data_highlight]"
   ],
   "metadata": {
    "collapsed": false,
    "ExecuteTime": {
     "end_time": "2024-05-16T14:05:37.114706Z",
     "start_time": "2024-05-16T14:05:36.918463Z"
    }
   },
   "id": "3de1825925ea0d69"
  },
  {
   "cell_type": "code",
   "execution_count": 99,
   "outputs": [],
   "source": [
    "HighlightData = {\"context\":context_list, \"highlights\":highlight_list}"
   ],
   "metadata": {
    "collapsed": false,
    "ExecuteTime": {
     "end_time": "2024-05-16T14:05:39.118497Z",
     "start_time": "2024-05-16T14:05:39.116565Z"
    }
   },
   "id": "d6591c45e9c9f849"
  },
  {
   "cell_type": "code",
   "execution_count": 100,
   "outputs": [],
   "source": [
    "with open(\"HighlightData.json\", \"w\", encoding='utf-8') as f:\n",
    "    json.dump(HighlightData, f, ensure_ascii=False, indent=4)"
   ],
   "metadata": {
    "collapsed": false,
    "ExecuteTime": {
     "end_time": "2024-05-16T14:05:49.327953Z",
     "start_time": "2024-05-16T14:05:47.902425Z"
    }
   },
   "id": "b8089e19f9e2692f"
  },
  {
   "cell_type": "markdown",
   "source": [],
   "metadata": {
    "collapsed": false
   },
   "id": "d0666ffd5b71281e"
  }
 ],
 "metadata": {
  "kernelspec": {
   "display_name": "Python 3",
   "language": "python",
   "name": "python3"
  },
  "language_info": {
   "codemirror_mode": {
    "name": "ipython",
    "version": 2
   },
   "file_extension": ".py",
   "mimetype": "text/x-python",
   "name": "python",
   "nbconvert_exporter": "python",
   "pygments_lexer": "ipython2",
   "version": "2.7.6"
  }
 },
 "nbformat": 4,
 "nbformat_minor": 5
}
